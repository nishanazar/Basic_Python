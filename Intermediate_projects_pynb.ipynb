{
  "cells": [
    {
      "cell_type": "markdown",
      "metadata": {
        "id": "view-in-github",
        "colab_type": "text"
      },
      "source": [
        "<a href=\"https://colab.research.google.com/github/nishanazar/Basic_Python/blob/main/Intermediate_projects_pynb.ipynb\" target=\"_parent\"><img src=\"https://colab.research.google.com/assets/colab-badge.svg\" alt=\"Open In Colab\"/></a>"
      ]
    },
    {
      "cell_type": "code",
      "source": [
        "def mars_weight():\n",
        "  user_input = float(input(\"Input your Earth weight: \"))\n",
        "  mars_weight : float = user_input * 0.378\n",
        "  rounded_weight: float = round(mars_weight, 2)\n",
        "  print(rounded_weight)\n",
        "\n",
        "\n",
        "mars_weight()"
      ],
      "metadata": {
        "id": "E5MmNjakE1JW"
      },
      "execution_count": null,
      "outputs": []
    }
  ],
  "metadata": {
    "colab": {
      "provenance": [],
      "authorship_tag": "ABX9TyNgbjhzTaII2VB6TZrmWfSF",
      "include_colab_link": true
    },
    "kernelspec": {
      "display_name": "Python 3",
      "name": "python3"
    },
    "language_info": {
      "name": "python"
    }
  },
  "nbformat": 4,
  "nbformat_minor": 0
}
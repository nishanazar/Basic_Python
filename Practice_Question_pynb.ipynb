{
  "cells": [
    {
      "cell_type": "markdown",
      "metadata": {
        "id": "view-in-github",
        "colab_type": "text"
      },
      "source": [
        "<a href=\"https://colab.research.google.com/github/nishanazar/Basic_Python/blob/main/Practice_Question_pynb.ipynb\" target=\"_parent\"><img src=\"https://colab.research.google.com/assets/colab-badge.svg\" alt=\"Open In Colab\"/></a>"
      ]
    },
    {
      "cell_type": "markdown",
      "source": [
        "**Practice Question**"
      ],
      "metadata": {
        "id": "qdCjYeYnrESF"
      }
    },
    {
      "cell_type": "code",
      "source": [
        "user_name = str(input(\"Enter your first Name: \"))\n",
        "print(len(user_name))"
      ],
      "metadata": {
        "id": "OZYDmmefrN2L"
      },
      "execution_count": null,
      "outputs": []
    },
    {
      "cell_type": "code",
      "source": [
        "text = \"hello i am $ dollar \"\n",
        "print(text.find(\"$\"))"
      ],
      "metadata": {
        "id": "FA-Z9rqurV26"
      },
      "execution_count": null,
      "outputs": []
    },
    {
      "cell_type": "code",
      "source": [
        "entered_number = int(input(\"Enter your number: \"))\n",
        "if (entered_number % 2 == 0):\n",
        "    print(\"This is Even number\")\n",
        "else :\n",
        "    print(\"This is Odd number\")"
      ],
      "metadata": {
        "id": "Zh-dk_XjrYQ8"
      },
      "execution_count": null,
      "outputs": []
    },
    {
      "cell_type": "code",
      "source": [
        "a = int(input(\"Enter your first number: \"))\n",
        "b = int(input(\"Enter your second number: \"))\n",
        "c = int(input(\"Enter your third number: \"))\n",
        "\n",
        "if(a>= b and a>=c):\n",
        "    print(\"First number is largest number\", a)\n",
        "elif(b>=c):\n",
        "    print(\"Second number is largest number\", b)\n",
        "else:\n",
        "      print(\"third number is largest number\", c)"
      ],
      "metadata": {
        "id": "q5qef6oZrav1"
      },
      "execution_count": null,
      "outputs": []
    },
    {
      "cell_type": "code",
      "source": [
        "num = int(input(\"Enter number: \"))\n",
        "\n",
        "if( num %7 == 0):\n",
        "     print(\"multiple of 7\")\n",
        "else:\n",
        "     print(\"not multiple in 7 \")"
      ],
      "metadata": {
        "id": "h0fwOHTjrdzS"
      },
      "execution_count": null,
      "outputs": []
    },
    {
      "cell_type": "code",
      "source": [
        "\n",
        "movie_list =[]\n",
        "movei1 = str(input(\"Enter 1 movie: \"))\n",
        "movei2 = str(input(\"Enter 2 movie: \"))\n",
        "movei3 = str(input(\"Enter 3 movie: \"))\n",
        "\n",
        "movie_list.append(movei1)\n",
        "movie_list.append(movei2)\n",
        "movie_list.append(movei3)\n",
        "\n",
        "print(movie_list)"
      ],
      "metadata": {
        "id": "LOHHBfOas5-G"
      },
      "execution_count": null,
      "outputs": []
    },
    {
      "cell_type": "code",
      "source": [
        "\n",
        "movie_list =[]\n",
        "movei1 = str(input(\"Enter 1 movie: \"))\n",
        "movei2 = str(input(\"Enter 2 movie: \"))\n",
        "movei3 = str(input(\"Enter 3 movie: \"))\n",
        "\n",
        "movie_list.append(movei1)\n",
        "movie_list.append(movei2)\n",
        "movie_list.append(movei3)\n",
        "\n",
        "print(movie_list)"
      ],
      "metadata": {
        "id": "9ZSZbmActDnl"
      },
      "execution_count": null,
      "outputs": []
    },
    {
      "cell_type": "code",
      "source": [
        "grade = [\"C\", \"D\", \"A\", \"A\", \"B\", \"B\", \"A\"]\n",
        "print(grade.count(\"A\"))"
      ],
      "metadata": {
        "id": "XnZXCaostJOq"
      },
      "execution_count": null,
      "outputs": []
    },
    {
      "cell_type": "code",
      "source": [
        "grade = [\"C\", \"D\", \"A\", \"A\", \"B\", \"B\", \"A\"]\n",
        "grade.sort()\n",
        "print(grade)"
      ],
      "metadata": {
        "id": "e2l2Fv41tPS1"
      },
      "execution_count": null,
      "outputs": []
    },
    {
      "cell_type": "code",
      "source": [
        "dictionary = {\n",
        "     \"table\": [\"a piece of furniture\", \"list of facts & figures\"],\n",
        "     \"cat\": \"a small animal\"\n",
        "}\n",
        "\n",
        "print(dictionary[\"table\"])"
      ],
      "metadata": {
        "id": "04xNHJ2GtTZC"
      },
      "execution_count": null,
      "outputs": []
    },
    {
      "cell_type": "code",
      "source": [
        "list_subjects = {\"python\", \"java\", \"c++\", \"python\", \"javascript\",\"java\", \"python\", \"java\", \"c++\", \"c\"}\n",
        "print(len(list_subjects))"
      ],
      "metadata": {
        "id": "tAyttonGtZqM"
      },
      "execution_count": null,
      "outputs": []
    },
    {
      "cell_type": "code",
      "source": [
        "\n",
        "subject_dic = {}\n",
        "\n",
        "subject1 = str(input(\"Enter your English marks? \"))\n",
        "subject_dic.update({\"English\": subject1})\n",
        "\n",
        "subject2 = str(input(\"Enter your Sindhi marks? \"))\n",
        "subject_dic.update({\"Sindhi\": subject2})\n",
        "\n",
        "subject3 = str(input(\"Enter your Urdu marks? \"))\n",
        "subject_dic.update({\"Urdu\": subject1})\n",
        "\n",
        "\n",
        "print(subject_dic)"
      ],
      "metadata": {
        "id": "8xQygsIftdWy"
      },
      "execution_count": null,
      "outputs": []
    },
    {
      "cell_type": "code",
      "source": [
        "value = {9, \"9.0\"}\n",
        "print(value)"
      ],
      "metadata": {
        "id": "lA-NEmKMtjZN"
      },
      "execution_count": null,
      "outputs": []
    },
    {
      "cell_type": "code",
      "source": [
        "for num in range(1, 101):\n",
        "     print(num)"
      ],
      "metadata": {
        "id": "nZLAuXYgtm3J"
      },
      "execution_count": null,
      "outputs": []
    },
    {
      "cell_type": "code",
      "source": [
        "for num in range(100, 0, -1):\n",
        "     print(num)"
      ],
      "metadata": {
        "id": "HThnf8ZXtrB6"
      },
      "execution_count": null,
      "outputs": []
    },
    {
      "cell_type": "code",
      "source": [
        "nums = [1, 4, 9, 16, 25, 36, 49, 64, 81, 100]\n",
        "\n",
        "idx = 0\n",
        "while idx < len(nums):\n",
        "     print(nums[idx])\n",
        "     idx += 1"
      ],
      "metadata": {
        "id": "uS47OhJ8ttiB"
      },
      "execution_count": null,
      "outputs": []
    },
    {
      "cell_type": "code",
      "source": [
        "nums = [1, 4, 9, 16, 25, 36, 49, 64, 81, 100]\n",
        "\n",
        "x = 36\n",
        "i = 0\n",
        "while i < len(nums):\n",
        "     if(nums[i] == x):\n",
        "          print(\"found\")\n",
        "     print(nums[i])\n",
        "     i += 1"
      ],
      "metadata": {
        "id": "legAiS_Utykr"
      },
      "execution_count": null,
      "outputs": []
    },
    {
      "cell_type": "code",
      "source": [
        "n = 2\n",
        "i = 1\n",
        "\n",
        "while i <= 10:\n",
        "      print(\"2 x\", i, \"=\", n*i)\n",
        "      i += 1"
      ],
      "metadata": {
        "id": "o_aO6q86t3Zl"
      },
      "execution_count": null,
      "outputs": []
    },
    {
      "cell_type": "code",
      "source": [
        "nums = [1, 4, 9, 16, 25, 36, 49, 64, 82, 100]\n",
        "\n",
        "n = 1\n",
        "sum = 0\n",
        "\n",
        "while n < len(nums):\n",
        "      sum += nums[n]\n",
        "      n += 1\n",
        "print(sum)"
      ],
      "metadata": {
        "id": "puAgnQ6wt7Q7"
      },
      "execution_count": null,
      "outputs": []
    },
    {
      "cell_type": "code",
      "source": [
        "num = [1,2,3,4,5]\n",
        "def add(list):\n",
        "      return list\n",
        "print(add(num))"
      ],
      "metadata": {
        "id": "T9-xhscduFSc"
      },
      "execution_count": null,
      "outputs": []
    },
    {
      "cell_type": "code",
      "source": [
        "# convert USD to ING\n",
        "usd_value = input(\"Ender USD: \")\n",
        "def converter(usd_value):\n",
        "      inr_value = usd_value * 83\n",
        "      print(usd_value ,  'USD = ', inr_value, 'INR')\n",
        "\n",
        "converter(2)"
      ],
      "metadata": {
        "id": "f4zYE0bSuImV"
      },
      "execution_count": null,
      "outputs": []
    }
  ],
  "metadata": {
    "colab": {
      "provenance": [],
      "authorship_tag": "ABX9TyMeKf8DtWHDU+YhUfJheOqT",
      "include_colab_link": true
    },
    "kernelspec": {
      "display_name": "Python 3",
      "name": "python3"
    },
    "language_info": {
      "name": "python"
    }
  },
  "nbformat": 4,
  "nbformat_minor": 0
}
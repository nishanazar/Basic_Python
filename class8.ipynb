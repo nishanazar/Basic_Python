{
  "cells": [
    {
      "cell_type": "markdown",
      "metadata": {
        "id": "view-in-github",
        "colab_type": "text"
      },
      "source": [
        "<a href=\"https://colab.research.google.com/github/nishanazar/Basic_Python/blob/main/class8.ipynb\" target=\"_parent\"><img src=\"https://colab.research.google.com/assets/colab-badge.svg\" alt=\"Open In Colab\"/></a>"
      ]
    },
    {
      "cell_type": "code",
      "source": [
        "# object oriented programming me  constracter me function ka name __init__ do underscore hoga\n",
        "\n",
        "# self class key ander doondhe ga property\n",
        "\n",
        "# def __init__(self):\n",
        "#   print(\"hello\")"
      ],
      "metadata": {
        "id": "mH1DVCLSqVve"
      },
      "execution_count": null,
      "outputs": []
    },
    {
      "cell_type": "code",
      "source": [
        "class House:\n",
        "  address: str\n",
        "  number_of_doors : int = 2\n",
        "  number_of_roors : int = 4\n",
        "\n",
        "  def __init__(self, address: str):\n",
        "    self.address = address\n",
        "\n",
        "  def ring_bell(self):\n",
        "     print(\"ding dong\")\n",
        "\n",
        "house_1 = House(\"house no: 999\")\n",
        "print(house_1.address)\n",
        "\n",
        "house_1.ring_bell()\n",
        "\n"
      ],
      "metadata": {
        "colab": {
          "base_uri": "https://localhost:8080/"
        },
        "id": "IAp9hIw_wbrW",
        "outputId": "bce5ee2d-9255-4241-e649-bdd5e6ae769a"
      },
      "execution_count": null,
      "outputs": [
        {
          "output_type": "stream",
          "name": "stdout",
          "text": [
            "house no: 999\n",
            "ding dong\n"
          ]
        }
      ]
    },
    {
      "cell_type": "code",
      "source": [
        "first_name = str = 1234\n",
        "print(type(first_name))"
      ],
      "metadata": {
        "colab": {
          "base_uri": "https://localhost:8080/"
        },
        "id": "qwEY1JSrKeZ8",
        "outputId": "8266c87d-5828-446f-ea72-4cc5c141ffce"
      },
      "execution_count": null,
      "outputs": [
        {
          "output_type": "stream",
          "name": "stdout",
          "text": [
            "<class 'int'>\n"
          ]
        }
      ]
    }
  ],
  "metadata": {
    "colab": {
      "provenance": [],
      "authorship_tag": "ABX9TyPE+yYhoq+fMCklmm8RNYWV",
      "include_colab_link": true
    },
    "kernelspec": {
      "display_name": "Python 3",
      "name": "python3"
    },
    "language_info": {
      "name": "python"
    }
  },
  "nbformat": 4,
  "nbformat_minor": 0
}
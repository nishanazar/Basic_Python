{
  "cells": [
    {
      "cell_type": "markdown",
      "metadata": {
        "id": "view-in-github",
        "colab_type": "text"
      },
      "source": [
        "<a href=\"https://colab.research.google.com/github/nishanazar/Basic_Python/blob/main/class6.ipynb\" target=\"_parent\"><img src=\"https://colab.research.google.com/assets/colab-badge.svg\" alt=\"Open In Colab\"/></a>"
      ]
    },
    {
      "cell_type": "code",
      "source": [
        "user ={\n",
        "    \"name\" : \"nisha\",\n",
        "    \"age\": 22,\n",
        "    \"city\": \"karachi\"\n",
        "}\n",
        "print(user)\n",
        "print(user[\"name\"])\n",
        "\n"
      ],
      "metadata": {
        "colab": {
          "base_uri": "https://localhost:8080/"
        },
        "id": "549p17Rhnqzi",
        "outputId": "f17eb7a2-94e4-4156-b48b-30c7ad5bc7cc"
      },
      "execution_count": null,
      "outputs": [
        {
          "output_type": "stream",
          "name": "stdout",
          "text": [
            "{'name': 'nisha', 'age': 22, 'city': 'karachi'}\n",
            "nisha\n"
          ]
        }
      ]
    },
    {
      "cell_type": "code",
      "source": [
        "user: dict ={\n",
        "    \"name\" : \"nisha\",\n",
        "    \"age\": 22,\n",
        "    \"city\": \"karachi\"\n",
        "}\n",
        "print(user)\n",
        "print(user[\"name\"])\n",
        "\n",
        "user[\"name\"] = \"Aiza\" # update the property\n",
        "user[\"class\"] = \"Five\"   #add one property\n",
        "print(user)\n",
        "\n",
        "\n"
      ],
      "metadata": {
        "colab": {
          "base_uri": "https://localhost:8080/"
        },
        "id": "agjPu2T7n_fa",
        "outputId": "a5cee247-9779-4f26-ac71-46b763c9323b"
      },
      "execution_count": null,
      "outputs": [
        {
          "output_type": "stream",
          "name": "stdout",
          "text": [
            "{'name': 'nisha', 'age': 22, 'city': 'karachi'}\n",
            "nisha\n",
            "{'name': 'Aiza', 'age': 22, 'city': 'karachi', 'class': 'Five'}\n"
          ]
        }
      ]
    },
    {
      "cell_type": "code",
      "source": [
        "students = [\n",
        "{\n",
        "    \"name\": \"ali\",\n",
        "    \"subject\": \"english\",\n",
        "   \" roll_number\": 1234\n",
        "},\n",
        "                  {\n",
        "    \"name\": \"aiza\",\n",
        "    \"subject\": \"urdu\",\n",
        "   \" roll_number\": 12345\n",
        "},\n",
        "                  {\n",
        "    \"name\": \"hashir\",\n",
        "    \"subject\": \"sindhi\",\n",
        "   \" roll_number\": 123456\n",
        "},\n",
        "]\n",
        "\n",
        "print(students)\n",
        "print(students[1])\n",
        "print([students[0][\"name\"], students[1][\"name\"], students[2][\"name\"]])"
      ],
      "metadata": {
        "colab": {
          "base_uri": "https://localhost:8080/"
        },
        "id": "_etBFnvx12Yx",
        "outputId": "8b5b14ae-032c-489e-8983-4ee53122571d"
      },
      "execution_count": null,
      "outputs": [
        {
          "output_type": "stream",
          "name": "stdout",
          "text": [
            "[{'name': 'ali', 'subject': 'english', ' roll_number': 1234}, {'name': 'aiza', 'subject': 'urdu', ' roll_number': 12345}, {'name': 'hashir', 'subject': 'sindhi', ' roll_number': 123456}]\n",
            "{'name': 'aiza', 'subject': 'urdu', ' roll_number': 12345}\n",
            "['ali', 'aiza', 'hashir']\n"
          ]
        }
      ]
    },
    {
      "cell_type": "markdown",
      "source": [
        "loop in python"
      ],
      "metadata": {
        "id": "hoSNfVr_7c_5"
      }
    },
    {
      "cell_type": "code",
      "source": [
        "fruits = [\"apple\", \"banana\", \"orange\", \"watermelon\", \"cherry\"]\n",
        "\n",
        "for fruit in fruits:\n",
        "  print(f\"My favourite {fruit}!\")"
      ],
      "metadata": {
        "colab": {
          "base_uri": "https://localhost:8080/"
        },
        "id": "gojctyLH7bnm",
        "outputId": "87663e78-e775-45bb-ebaa-4daf12ff15db"
      },
      "execution_count": null,
      "outputs": [
        {
          "output_type": "stream",
          "name": "stdout",
          "text": [
            "My favourite apple!\n",
            "My favourite banana!\n",
            "My favourite orange!\n",
            "My favourite watermelon!\n",
            "My favourite cherry!\n"
          ]
        }
      ]
    },
    {
      "cell_type": "code",
      "source": [
        "countdown = 10\n",
        "\n",
        "while countdown >=1:\n",
        "  print(f\"{countdown}\")\n",
        "  countdown -= 1"
      ],
      "metadata": {
        "colab": {
          "base_uri": "https://localhost:8080/"
        },
        "id": "mxIDKhUyywrg",
        "outputId": "d1281293-4fec-4205-8267-60dbbcfe9d4f"
      },
      "execution_count": null,
      "outputs": [
        {
          "output_type": "stream",
          "name": "stdout",
          "text": [
            "10\n",
            "9\n",
            "8\n",
            "7\n",
            "6\n",
            "5\n",
            "4\n",
            "3\n",
            "2\n",
            "1\n"
          ]
        }
      ]
    },
    {
      "cell_type": "code",
      "source": [
        "numbers = [1,2,3,4,5]\n",
        "for num in numbers:\n",
        " print(f\"{num ** 2}\")"
      ],
      "metadata": {
        "colab": {
          "base_uri": "https://localhost:8080/"
        },
        "id": "hpB4uIhh0Ojj",
        "outputId": "332731fe-02ee-4b30-d2dc-89c97d9b0877"
      },
      "execution_count": null,
      "outputs": [
        {
          "output_type": "stream",
          "name": "stdout",
          "text": [
            "1\n",
            "4\n",
            "9\n",
            "16\n",
            "25\n"
          ]
        }
      ]
    }
  ],
  "metadata": {
    "colab": {
      "provenance": [],
      "authorship_tag": "ABX9TyNpitTdfYzUYqs2xg9uzU8M",
      "include_colab_link": true
    },
    "kernelspec": {
      "display_name": "Python 3",
      "name": "python3"
    },
    "language_info": {
      "name": "python"
    }
  },
  "nbformat": 4,
  "nbformat_minor": 0
}
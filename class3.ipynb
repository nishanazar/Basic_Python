{
  "cells": [
    {
      "cell_type": "markdown",
      "metadata": {
        "id": "view-in-github",
        "colab_type": "text"
      },
      "source": [
        "<a href=\"https://colab.research.google.com/github/nishanazar/Basic_Python/blob/main/class3.ipynb\" target=\"_parent\"><img src=\"https://colab.research.google.com/assets/colab-badge.svg\" alt=\"Open In Colab\"/></a>"
      ]
    },
    {
      "cell_type": "code",
      "source": [
        "marks = int(input(\"Enter your marks: \"))\n",
        "# If-Else with Comparison Operators\n",
        "if ( marks >= 90 ):\n",
        "    grade = \"A+\"\n",
        "elif ( marks >= 80 ):\n",
        "    grade = \"A\"\n",
        "elif ( marks >= 70 ):\n",
        "    grade = \"B\"\n",
        "elif ( marks >= 60 ):\n",
        "    grade = \"C\"\n",
        "elif ( marks >= 50 ):\n",
        "    grade = \"D\"\n",
        "else:\n",
        "    grade = \"Fail\"\n",
        "\n",
        "print(f\"Your grade is: {grade}\")"
      ],
      "metadata": {
        "colab": {
          "base_uri": "https://localhost:8080/"
        },
        "id": "H_0dYJG_Kpgu",
        "outputId": "fc4442a1-46bc-4ba7-b5d5-92166ce5027c"
      },
      "execution_count": 37,
      "outputs": [
        {
          "output_type": "stream",
          "name": "stdout",
          "text": [
            "Enter your marks: 95\n",
            "Your grade is: A+\n"
          ]
        }
      ]
    },
    {
      "cell_type": "code",
      "source": [
        "num1 = int(input(\"Enter first number: \"))\n",
        "operator = input(\"Enter operation (+, -, *, /, %, **): \")\n",
        "num2 = int(input(\"Enter second number: \"))\n",
        "\n",
        "if ( operator == '+' ):\n",
        "    result = num1 + num2\n",
        "elif ( operator == '-' ):\n",
        "    result = num1 - num2\n",
        "elif ( operator == '*' ):\n",
        "    result = num1 * num2\n",
        "elif ( operator == '/' ):\n",
        "    if ( num2 != 0 ):\n",
        "        result = num1 / num2\n",
        "    else:\n",
        "        result = \"Error! Division by zero.\"\n",
        "elif (operator == '%'):\n",
        "    result = num1 % num2\n",
        "elif ( operator == '**' ):\n",
        "    result = num1 ** num2\n",
        "else:\n",
        "    result = \"Invalid operator!\"\n",
        "\n",
        "print(f\"Result: {result}\")\n"
      ],
      "metadata": {
        "colab": {
          "base_uri": "https://localhost:8080/"
        },
        "id": "QENzNdl7LOWA",
        "outputId": "a68733a7-3134-402e-f2af-b8b0a4c33bd6"
      },
      "execution_count": 35,
      "outputs": [
        {
          "output_type": "stream",
          "name": "stdout",
          "text": [
            "Enter first number: 670\n",
            "Enter operation (+, -, *, /, %, **): *\n",
            "Enter second number: 6\n",
            "Result: 4020\n"
          ]
        }
      ]
    }
  ],
  "metadata": {
    "colab": {
      "provenance": [],
      "authorship_tag": "ABX9TyPugwHyAo5VUJYZgz10eFsK",
      "include_colab_link": true
    },
    "kernelspec": {
      "display_name": "Python 3",
      "name": "python3"
    },
    "language_info": {
      "name": "python"
    }
  },
  "nbformat": 4,
  "nbformat_minor": 0
}
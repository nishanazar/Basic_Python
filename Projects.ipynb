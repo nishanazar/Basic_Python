{
  "cells": [
    {
      "cell_type": "markdown",
      "metadata": {
        "id": "view-in-github",
        "colab_type": "text"
      },
      "source": [
        "<a href=\"https://colab.research.google.com/github/nishanazar/Basic_Python/blob/main/Projects.ipynb\" target=\"_parent\"><img src=\"https://colab.research.google.com/assets/colab-badge.svg\" alt=\"Open In Colab\"/></a>"
      ]
    },
    {
      "cell_type": "markdown",
      "source": [],
      "metadata": {
        "id": "G2VkoiKEmQLr"
      }
    },
    {
      "cell_type": "markdown",
      "source": [
        "**JOKE BOT**"
      ],
      "metadata": {
        "id": "mNPnJ1-dmRIb"
      }
    },
    {
      "cell_type": "code",
      "source": [
        "\n",
        "JOKE= \"Here is a joke for you! Panaversity GPT - Sophia is heading out to the grocery store. A programmer tells her: get a liter of milk, and if they have eggs, get 12. Sophia returns with 13 liters of milk. The programmer asks why and Sophia replies: 'because they had eggs\"\n",
        "PROMPT = \"what you want?\"\n",
        "SORRAY= \"Sorry I only tell jokes\"\n",
        "\n",
        "def bot():\n",
        " input_user =  input(PROMPT).lower()\n",
        " if \"joke\" in input_user :\n",
        "  print(JOKE)\n",
        " else:\n",
        "  print(SORRAY)\n",
        "\n",
        "bot()"
      ],
      "metadata": {
        "colab": {
          "base_uri": "https://localhost:8080/"
        },
        "id": "JBDjf-fXNn59",
        "outputId": "5058a178-d413-44d4-d5b6-27e0a3e4ca91"
      },
      "execution_count": 26,
      "outputs": [
        {
          "output_type": "stream",
          "name": "stdout",
          "text": [
            "what you want?joke\n",
            "Here is a joke for you! Panaversity GPT - Sophia is heading out to the grocery store. A programmer tells her: get a liter of milk, and if they have eggs, get 12. Sophia returns with 13 liters of milk. The programmer asks why and Sophia replies: 'because they had eggs\n"
          ]
        }
      ]
    },
    {
      "cell_type": "markdown",
      "source": [
        "**DOUBLE IT**"
      ],
      "metadata": {
        "id": "d9Q6zQTAl_Wk"
      }
    },
    {
      "cell_type": "code",
      "source": [
        "def double_it():\n",
        "  user_input =(int(input(\"Enter a number: \")))\n",
        "\n",
        "\n",
        "  while user_input < 100:\n",
        "     user_input = user_input * 2\n",
        "     print(user_input)\n",
        "\n",
        "double_it()"
      ],
      "metadata": {
        "colab": {
          "base_uri": "https://localhost:8080/"
        },
        "id": "8cRRR6SwuRd-",
        "outputId": "d4d38cd0-9f42-4c52-f855-678513be1d17"
      },
      "execution_count": 45,
      "outputs": [
        {
          "output_type": "stream",
          "name": "stdout",
          "text": [
            "Enter a number: 90\n",
            "180\n"
          ]
        }
      ]
    },
    {
      "cell_type": "markdown",
      "source": [
        "**LiftOff**"
      ],
      "metadata": {
        "id": "OFsly5yizgqc"
      }
    },
    {
      "cell_type": "code",
      "source": [
        "countdown = 10\n",
        "\n",
        "while countdown >=1:\n",
        "  print(f\"{countdown}\")\n",
        "  countdown -= 1"
      ],
      "metadata": {
        "colab": {
          "base_uri": "https://localhost:8080/"
        },
        "id": "HWdXRj3zzoa0",
        "outputId": "4b0fcf95-fde4-4173-a763-83944d5b32d5"
      },
      "execution_count": 47,
      "outputs": [
        {
          "output_type": "stream",
          "name": "stdout",
          "text": [
            "10\n",
            "9\n",
            "8\n",
            "7\n",
            "6\n",
            "5\n",
            "4\n",
            "3\n",
            "2\n",
            "1\n"
          ]
        }
      ]
    },
    {
      "cell_type": "code",
      "source": [
        "from ast import For\n",
        "countdown = [10,9,8,7,6,5,4,3,2,1]\n",
        "for num in countdown:\n",
        "  print(num)"
      ],
      "metadata": {
        "colab": {
          "base_uri": "https://localhost:8080/"
        },
        "id": "Uuf1IPrA2Ym7",
        "outputId": "d0db2e23-a735-4a5e-f421-4d719fbe6721"
      },
      "execution_count": 48,
      "outputs": [
        {
          "output_type": "stream",
          "name": "stdout",
          "text": [
            "10\n",
            "9\n",
            "8\n",
            "7\n",
            "6\n",
            "5\n",
            "4\n",
            "3\n",
            "2\n",
            "1\n"
          ]
        }
      ]
    }
  ],
  "metadata": {
    "colab": {
      "provenance": [],
      "authorship_tag": "ABX9TyNgJuk9Q3EsygjmjDAGR9n3",
      "include_colab_link": true
    },
    "kernelspec": {
      "display_name": "Python 3",
      "name": "python3"
    },
    "language_info": {
      "name": "python"
    }
  },
  "nbformat": 4,
  "nbformat_minor": 0
}
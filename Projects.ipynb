{
  "cells": [
    {
      "cell_type": "markdown",
      "metadata": {
        "id": "view-in-github",
        "colab_type": "text"
      },
      "source": [
        "<a href=\"https://colab.research.google.com/github/nishanazar/Basic_Python/blob/main/Projects.ipynb\" target=\"_parent\"><img src=\"https://colab.research.google.com/assets/colab-badge.svg\" alt=\"Open In Colab\"/></a>"
      ]
    },
    {
      "cell_type": "markdown",
      "source": [
        "**JOKE BOT**"
      ],
      "metadata": {
        "id": "mNPnJ1-dmRIb"
      }
    },
    {
      "cell_type": "code",
      "source": [
        "\n",
        "JOKE= \"Here is a joke for you! Panaversity GPT - Sophia is heading out to the grocery store. A programmer tells her: get a liter of milk, and if they have eggs, get 12. Sophia returns with 13 liters of milk. The programmer asks why and Sophia replies: 'because they had eggs\"\n",
        "PROMPT = \"what you want?\"\n",
        "SORRAY= \"Sorry I only tell jokes\"\n",
        "\n",
        "def bot():\n",
        " input_user =  input(PROMPT).lower()\n",
        " if \"joke\" in input_user :\n",
        "  print(JOKE)\n",
        " else:\n",
        "  print(SORRAY)\n",
        "\n",
        "bot()"
      ],
      "metadata": {
        "colab": {
          "base_uri": "https://localhost:8080/"
        },
        "id": "JBDjf-fXNn59",
        "outputId": "5058a178-d413-44d4-d5b6-27e0a3e4ca91"
      },
      "execution_count": null,
      "outputs": [
        {
          "output_type": "stream",
          "name": "stdout",
          "text": [
            "what you want?joke\n",
            "Here is a joke for you! Panaversity GPT - Sophia is heading out to the grocery store. A programmer tells her: get a liter of milk, and if they have eggs, get 12. Sophia returns with 13 liters of milk. The programmer asks why and Sophia replies: 'because they had eggs\n"
          ]
        }
      ]
    },
    {
      "cell_type": "markdown",
      "source": [
        "**DOUBLE IT**"
      ],
      "metadata": {
        "id": "d9Q6zQTAl_Wk"
      }
    },
    {
      "cell_type": "code",
      "source": [
        "def double_it():\n",
        "  user_input =(int(input(\"Enter a number: \")))\n",
        "\n",
        "\n",
        "  while user_input < 100:\n",
        "     user_input = user_input * 2\n",
        "     print(user_input)\n",
        "\n",
        "double_it()"
      ],
      "metadata": {
        "colab": {
          "base_uri": "https://localhost:8080/"
        },
        "id": "8cRRR6SwuRd-",
        "outputId": "d4d38cd0-9f42-4c52-f855-678513be1d17"
      },
      "execution_count": null,
      "outputs": [
        {
          "output_type": "stream",
          "name": "stdout",
          "text": [
            "Enter a number: 90\n",
            "180\n"
          ]
        }
      ]
    },
    {
      "cell_type": "markdown",
      "source": [
        "**LiftOff**"
      ],
      "metadata": {
        "id": "OFsly5yizgqc"
      }
    },
    {
      "cell_type": "code",
      "source": [
        "countdown = 10\n",
        "\n",
        "while countdown >=1:\n",
        "  print(f\"{countdown}\")\n",
        "  countdown -= 1"
      ],
      "metadata": {
        "colab": {
          "base_uri": "https://localhost:8080/"
        },
        "id": "HWdXRj3zzoa0",
        "outputId": "4b0fcf95-fde4-4173-a763-83944d5b32d5"
      },
      "execution_count": null,
      "outputs": [
        {
          "output_type": "stream",
          "name": "stdout",
          "text": [
            "10\n",
            "9\n",
            "8\n",
            "7\n",
            "6\n",
            "5\n",
            "4\n",
            "3\n",
            "2\n",
            "1\n"
          ]
        }
      ]
    },
    {
      "cell_type": "code",
      "source": [
        "from ast import For\n",
        "countdown = [10,9,8,7,6,5,4,3,2,1]\n",
        "for num in countdown:\n",
        "  print(num)"
      ],
      "metadata": {
        "colab": {
          "base_uri": "https://localhost:8080/"
        },
        "id": "Uuf1IPrA2Ym7",
        "outputId": "2e046ece-4de6-4ffb-b512-f6b8d038b0fe"
      },
      "execution_count": 4,
      "outputs": [
        {
          "output_type": "stream",
          "name": "stdout",
          "text": [
            "10\n",
            "9\n",
            "8\n",
            "7\n",
            "6\n",
            "5\n",
            "4\n",
            "3\n",
            "2\n",
            "1\n"
          ]
        }
      ]
    },
    {
      "cell_type": "code",
      "source": [
        "import time\n",
        "for num in range(10, 0, -1):\n",
        " print(num)\n",
        " time.sleep(1)\n",
        "print(\"liftoff\")"
      ],
      "metadata": {
        "id": "_sWtcyoF0OP8",
        "outputId": "709b0992-00cb-4cfb-d320-36c46fb41677",
        "colab": {
          "base_uri": "https://localhost:8080/"
        }
      },
      "execution_count": 5,
      "outputs": [
        {
          "output_type": "stream",
          "name": "stdout",
          "text": [
            "10\n",
            "9\n",
            "8\n",
            "7\n",
            "6\n",
            "5\n",
            "4\n",
            "3\n",
            "2\n",
            "1\n",
            "liftoff\n"
          ]
        }
      ]
    }
  ],
  "metadata": {
    "colab": {
      "provenance": [],
      "authorship_tag": "ABX9TyMhLGxOenapT1z3uQsigAO9",
      "include_colab_link": true
    },
    "kernelspec": {
      "display_name": "Python 3",
      "name": "python3"
    },
    "language_info": {
      "name": "python"
    }
  },
  "nbformat": 4,
  "nbformat_minor": 0
}
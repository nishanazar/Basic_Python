{
  "cells": [
    {
      "cell_type": "markdown",
      "metadata": {
        "id": "view-in-github",
        "colab_type": "text"
      },
      "source": [
        "<a href=\"https://colab.research.google.com/github/nishanazar/Basic_Python/blob/main/class2.ipynb\" target=\"_parent\"><img src=\"https://colab.research.google.com/assets/colab-badge.svg\" alt=\"Open In Colab\"/></a>"
      ]
    },
    {
      "cell_type": "code",
      "execution_count": 17,
      "metadata": {
        "colab": {
          "base_uri": "https://localhost:8080/"
        },
        "id": "WAIF_NqV0nC-",
        "outputId": "5c98efb7-38fc-422a-885b-1d950603007a"
      },
      "outputs": [
        {
          "output_type": "stream",
          "name": "stdout",
          "text": [
            "Hi sania\n",
            "You got coupon code: HAPPY2024.\n",
            "\n",
            "Best regard,\n",
            "Nisha Nzara\n"
          ]
        }
      ],
      "source": [
        "name  = \"sania\"\n",
        "detail = f\"\"\"Hi {name}\n",
        "You got coupon code: HAPPY2024.\n",
        "\n",
        "Best regard,\n",
        "Nisha Nzara\"\"\"\n",
        "print(detail)"
      ]
    },
    {
      "cell_type": "code",
      "source": [
        "faculty_members = 12;\n",
        "admin = 4\n",
        "students = 100\n",
        "student_absent = 15\n",
        "per_person_rabri = 250\n",
        "\n",
        "total = faculty_members + admin + students\n",
        "total2 = faculty_members + admin + students - student_absent\n",
        "print(f\"total person {total}\")\n",
        "print(f\"Absent Person {total2}\")\n",
        "print(f\"Gram {total2 * per_person_rabri}g\")\n",
        "print(f\"kg: {total2 * per_person_rabri // 1000}kg\") #double slash value point me nhi aata\n"
      ],
      "metadata": {
        "id": "fDPbjdOijQ72",
        "colab": {
          "base_uri": "https://localhost:8080/"
        },
        "outputId": "3be4d349-db58-4a77-eeb9-d94a2f164da9"
      },
      "execution_count": 18,
      "outputs": [
        {
          "output_type": "stream",
          "name": "stdout",
          "text": [
            "total person 116\n",
            "Absent Person 101\n",
            "Gram 25250g\n",
            "kg: 25kg\n"
          ]
        }
      ]
    }
  ],
  "metadata": {
    "colab": {
      "provenance": [],
      "authorship_tag": "ABX9TyPnktIv9W90zvXAQZ6I9rHI",
      "include_colab_link": true
    },
    "kernelspec": {
      "display_name": "Python 3",
      "name": "python3"
    },
    "language_info": {
      "name": "python"
    }
  },
  "nbformat": 4,
  "nbformat_minor": 0
}